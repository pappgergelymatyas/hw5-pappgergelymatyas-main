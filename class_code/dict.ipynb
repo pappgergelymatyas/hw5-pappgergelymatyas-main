{
 "cells": [
  {
   "cell_type": "markdown",
   "metadata": {},
   "source": [
    "# Python Dictionaries, Tuples, Input\n",
    "\n",
    "## What are Dictionaries?\n",
    "\n",
    "In Python, a **dictionary** is a built-in data structure that allows you to store **key-value pairs**. Each key in a dictionary is unique, and it’s associated with a value.\n",
    "\n",
    "Dictionaries are ideal for storing related pieces of information, like the attributes of a robot or character from an **Isaac Asimov** story.\n",
    "\n",
    "### Basic Structure\n",
    "\n",
    "A dictionary is defined using curly braces `{}`, with each key-value pair separated by a colon `:` and pairs separated by commas.\n"
   ]
  },
  {
   "cell_type": "code",
   "execution_count": 2,
   "metadata": {},
   "outputs": [
    {
     "name": "stdout",
     "output_type": "stream",
     "text": [
      "{}\n",
      "{'R. Daneel Olivaw': 'Humaniform Robot', 'R. Giskard Reventlov': 'Telepathic Robot', 'Andrew Martin': 'Bicentennial Man'}\n"
     ]
    }
   ],
   "source": [
    "# Creating an empty dictionary\n",
    "laws_of_robotics = {}\n",
    "\n",
    "# Creating a dictionary with initial values\n",
    "robots = {\n",
    "    \"R. Daneel Olivaw\": \"Humaniform Robot\",\n",
    "    \"R. Giskard Reventlov\": \"Telepathic Robot\",\n",
    "    \"Andrew Martin\": \"Bicentennial Man\",\n",
    "}\n",
    "\n",
    "print(laws_of_robotics)\n",
    "print(robots)"
   ]
  },
  {
   "cell_type": "markdown",
   "metadata": {},
   "source": [
    "### Adding or Updating Key-Value Pairs\n",
    "\n",
    "You can add a new key-value pair to an existing dictionary by assigning a value to a new key. If the key already exists, the value is updated.\n"
   ]
  },
  {
   "cell_type": "code",
   "execution_count": 3,
   "metadata": {},
   "outputs": [
    {
     "name": "stdout",
     "output_type": "stream",
     "text": [
      "{'R. Daneel Olivaw': 'Humaniform Robot', 'R. Giskard Reventlov': 'Telepathic Robot', 'Andrew Martin': 'Bicentennial Man', 'R. Jander Panell': 'Humaniform Robot'}\n",
      "{'R. Daneel Olivaw': 'Humaniform Robot', 'R. Giskard Reventlov': 'Telepathic Robot', 'Andrew Martin': 'Full Human Rights', 'R. Jander Panell': 'Humaniform Robot'}\n"
     ]
    }
   ],
   "source": [
    "# Adding a new key-value pair\n",
    "robots[\"R. Jander Panell\"] = \"Humaniform Robot\"\n",
    "print(robots)\n",
    "\n",
    "# Updating an existing key-value pair\n",
    "robots[\"Andrew Martin\"] = \"Full Human Rights\"\n",
    "print(robots)"
   ]
  },
  {
   "cell_type": "markdown",
   "metadata": {},
   "source": [
    "### Accessing Values in a Dictionary\n",
    "\n",
    "To access a value, you use the key in square brackets `[]`.\n"
   ]
  },
  {
   "cell_type": "code",
   "execution_count": 4,
   "metadata": {},
   "outputs": [
    {
     "name": "stdout",
     "output_type": "stream",
     "text": [
      "R. Daneel Olivaw is a Humaniform Robot.\n"
     ]
    }
   ],
   "source": [
    "# Accessing value by key\n",
    "daneel_type = robots[\"R. Daneel Olivaw\"]\n",
    "print(f\"R. Daneel Olivaw is a {daneel_type}.\")"
   ]
  },
  {
   "cell_type": "markdown",
   "metadata": {},
   "source": [
    "### Removing Key-Value Pairs\n",
    "\n",
    "You can remove key-value pairs from a dictionary using the `del` statement or the `pop()` method.\n"
   ]
  },
  {
   "cell_type": "code",
   "execution_count": 5,
   "metadata": {},
   "outputs": [
    {
     "name": "stdout",
     "output_type": "stream",
     "text": [
      "{'R. Daneel Olivaw': 'Humaniform Robot', 'Andrew Martin': 'Full Human Rights', 'R. Jander Panell': 'Humaniform Robot'}\n",
      "Removed R. Jander Panell who was a Humaniform Robot\n",
      "{'R. Daneel Olivaw': 'Humaniform Robot', 'Andrew Martin': 'Full Human Rights'}\n"
     ]
    }
   ],
   "source": [
    "# Using del\n",
    "del robots[\"R. Giskard Reventlov\"]\n",
    "print(robots)\n",
    "\n",
    "# Using pop() which also returns the value\n",
    "removed_robot = robots.pop(\"R. Jander Panell\")\n",
    "print(f\"Removed R. Jander Panell who was a {removed_robot}\")\n",
    "print(robots)"
   ]
  },
  {
   "cell_type": "markdown",
   "metadata": {},
   "source": [
    "### Comparing Dictionaries with Lists\n",
    "\n",
    "- Dictionaries:\n",
    "  - Store key-value pairs.\n",
    "  - Allow fast access to data through keys.\n",
    "  - Keys must be unique.\n",
    "- Lists:\n",
    "  - Store items in an ordered sequence.\n",
    "  - Allow fast access via index positions.\n",
    "  - Can store duplicate values.\n"
   ]
  },
  {
   "cell_type": "code",
   "execution_count": 6,
   "metadata": {},
   "outputs": [
    {
     "name": "stdout",
     "output_type": "stream",
     "text": [
      "Foundation characters as a list: ['Hari Seldon', 'Salvor Hardin', 'Hober Mallow']\n",
      "Foundation characters as a dictionary: {'Hari Seldon': 'Mathematician', 'Salvor Hardin': 'Mayor of Terminus', 'Hober Mallow': 'Master Trader'}\n",
      "First character from list: Hari Seldon\n",
      "Hari Seldon's role: Mathematician\n"
     ]
    }
   ],
   "source": [
    "# Using a list to store Foundation characters' names\n",
    "foundation_list = [\"Hari Seldon\", \"Salvor Hardin\", \"Hober Mallow\"]\n",
    "\n",
    "# Using a dictionary to store Foundation characters and their roles\n",
    "foundation_dict = {\n",
    "    \"Hari Seldon\": \"Mathematician\",\n",
    "    \"Salvor Hardin\": \"Mayor of Terminus\",\n",
    "    \"Hober Mallow\": \"Master Trader\",\n",
    "}\n",
    "\n",
    "print(\"Foundation characters as a list:\", foundation_list)\n",
    "print(\"Foundation characters as a dictionary:\", foundation_dict)\n",
    "\n",
    "# Access by index in list\n",
    "print(\"First character from list:\", foundation_list[0])\n",
    "\n",
    "# Access by key in dictionary\n",
    "print(\"Hari Seldon's role:\", foundation_dict[\"Hari Seldon\"])"
   ]
  },
  {
   "cell_type": "markdown",
   "metadata": {},
   "source": [
    "### Looping Through a Dictionary\n",
    "\n",
    "You can loop through both the keys and the values of a dictionary using a `for` loop.\n"
   ]
  },
  {
   "cell_type": "code",
   "execution_count": 7,
   "metadata": {},
   "outputs": [
    {
     "name": "stdout",
     "output_type": "stream",
     "text": [
      "Hari Seldon is a Mathematician.\n",
      "Salvor Hardin is a Mayor of Terminus.\n",
      "Hober Mallow is a Master Trader.\n"
     ]
    }
   ],
   "source": [
    "# Loop through keys and values\n",
    "for character, role in foundation_dict.items():\n",
    "    print(f\"{character} is a {role}.\")"
   ]
  },
  {
   "cell_type": "markdown",
   "metadata": {},
   "source": [
    "### Using `.keys()` and `.values()` Methods\n",
    "\n",
    "In Python, you can use the `.keys()` method to get all the keys from a dictionary and the `.values()` method to get all the values.\n"
   ]
  },
  {
   "cell_type": "code",
   "execution_count": 10,
   "metadata": {},
   "outputs": [
    {
     "name": "stdout",
     "output_type": "stream",
     "text": [
      "Foundation characters (keys): dict_keys(['Hari Seldon', 'Salvor Hardin', 'Hober Mallow'])\n",
      "Foundation roles (values): dict_values(['Mathematician', 'Mayor of Terminus', 'Master Trader'])\n"
     ]
    }
   ],
   "source": [
    "# Using .keys() to get all the keys (character names)\n",
    "foundation_keys = foundation_dict.keys()\n",
    "print(\"Foundation characters (keys):\", foundation_keys)\n",
    "\n",
    "# Using .values() to get all the values (roles)\n",
    "foundation_values = foundation_dict.values()\n",
    "print(\"Foundation roles (values):\", foundation_values)"
   ]
  },
  {
   "cell_type": "markdown",
   "metadata": {},
   "source": [
    "## A Little About Tuples\n",
    "\n",
    "A tuple is similar to a list in Python, but it is immutable, meaning that once it’s created, you cannot modify its contents. Tuples are defined using parentheses `()`.\n"
   ]
  },
  {
   "cell_type": "code",
   "execution_count": 11,
   "metadata": {},
   "outputs": [
    {
     "name": "stdout",
     "output_type": "stream",
     "text": [
      "First Law\n"
     ]
    },
    {
     "ename": "TypeError",
     "evalue": "'tuple' object does not support item assignment",
     "output_type": "error",
     "traceback": [
      "\u001b[1;31m---------------------------------------------------------------------------\u001b[0m",
      "\u001b[1;31mTypeError\u001b[0m                                 Traceback (most recent call last)",
      "Cell \u001b[1;32mIn[11], line 8\u001b[0m\n\u001b[0;32m      5\u001b[0m \u001b[38;5;28mprint\u001b[39m(three_laws[\u001b[38;5;241m0\u001b[39m])\n\u001b[0;32m      7\u001b[0m \u001b[38;5;66;03m# Tuples are immutable, so this would raise an error:\u001b[39;00m\n\u001b[1;32m----> 8\u001b[0m \u001b[43mthree_laws\u001b[49m\u001b[43m[\u001b[49m\u001b[38;5;241;43m0\u001b[39;49m\u001b[43m]\u001b[49m \u001b[38;5;241m=\u001b[39m \u001b[38;5;124m\"\u001b[39m\u001b[38;5;124mZeroth Law\u001b[39m\u001b[38;5;124m\"\u001b[39m  \u001b[38;5;66;03m# This is not allowed\u001b[39;00m\n",
      "\u001b[1;31mTypeError\u001b[0m: 'tuple' object does not support item assignment"
     ]
    }
   ],
   "source": [
    "# Creating a tuple\n",
    "three_laws = (\"First Law\", \"Second Law\", \"Third Law\")\n",
    "\n",
    "# Accessing tuple values\n",
    "print(three_laws[0])\n",
    "\n",
    "# Tuples are immutable, so this would raise an error:\n",
    "three_laws[0] = \"Zeroth Law\"  # This is not allowed"
   ]
  },
  {
   "cell_type": "markdown",
   "metadata": {},
   "source": [
    "### Isaac Asimov's Four Laws of Robotics:\n",
    "\n",
    "- First Law:\n",
    "  A robot may not injure a human being or, through inaction, allow a human being to come to harm.\n",
    "\n",
    "- Second Law:\n",
    "  A robot must obey the orders given it by human beings, except where such orders would conflict with the First Law.\n",
    "\n",
    "- Third Law:\n",
    "  A robot must protect its own existence as long as such protection does not conflict with the First or Second Laws.\n",
    "\n",
    "- Zeroth Law (added later in Asimov’s stories):\n",
    "  A robot may not harm humanity, or, by inaction, allow humanity to come to harm.\n"
   ]
  },
  {
   "cell_type": "markdown",
   "metadata": {},
   "source": [
    "## The Input Function\n",
    "\n",
    "The `input()` function is used to get user input in Python. It always returns the input as a string.\n"
   ]
  },
  {
   "cell_type": "code",
   "execution_count": null,
   "metadata": {},
   "outputs": [],
   "source": [
    "# Asking for user input\n",
    "robot_name = input(\"Enter the name of a Robot: \")\n",
    "\n",
    "# You can use the input in your dictionary\n",
    "if robot_name in robots:\n",
    "    print(f\"{robot_name} is a {robots[robot_name]}.\")\n",
    "else:\n",
    "    print(f\"Sorry, {robot_name} is not in the list.\")"
   ]
  },
  {
   "cell_type": "markdown",
   "metadata": {},
   "source": [
    "## Summary:\n",
    "\n",
    "- Dictionaries: A powerful way to store key-value pairs.\n",
    "- Lists vs. Dictionaries: Lists are ordered and indexed by position, while dictionaries are unordered and indexed by keys.\n",
    "- Tuples: Immutable lists, used for fixed collections of data.\n",
    "- Input function: Allows user input in Python programs.\n"
   ]
  }
 ],
 "metadata": {
  "kernelspec": {
   "display_name": "Python 3",
   "language": "python",
   "name": "python3"
  },
  "language_info": {
   "codemirror_mode": {
    "name": "ipython",
    "version": 3
   },
   "file_extension": ".py",
   "mimetype": "text/x-python",
   "name": "python",
   "nbconvert_exporter": "python",
   "pygments_lexer": "ipython3",
   "version": "3.11.3"
  }
 },
 "nbformat": 4,
 "nbformat_minor": 2
}
